{
 "cells": [
  {
   "cell_type": "code",
   "execution_count": 3,
   "metadata": {},
   "outputs": [],
   "source": [
    "import pandas as pd\n",
    "import json\n",
    "with open('train1.jsonl', \"r\") as f:\n",
    "    records = [json.loads(line) for line in f]\n",
    "pd.DataFrame.from_records(records).to_csv('testing.csv')"
   ]
  },
  {
   "cell_type": "code",
   "execution_count": 9,
   "metadata": {},
   "outputs": [
    {
     "data": {
      "text/plain": [
       "{'content': \"express\\nElectricity Facts Label (EFL)\\nEXPRESS ENERGY Quick 12\\nAEP Texas Central Service Area\\nENERGY\\nIssue Date: August 30, 2019\\nAverage Monthly Use\\n500 kWh\\n1,000 kWh\\n2,000 kWh\\nAverage Price per kWh\\n15.0¢\\n7.5¢\\n13.94\\nThese average prices are examples. Your price for electricity service will vary depending upon your actual usage.\\nThis price disclosure is based on the following components:\\nCharge if you use at least 1 kWh: $75 per billing cycle\\nAdditional charge if you use at least 1001 kWh: $64 per billing cycle\\nAdditional charge if you use more than 1000 kWh: 13.9€ per kWh in excess of 1000 kWh\\nBase Charge: $0\\nAEP Texas Central Service Area ('TDU') Charges: not passed through; included in these charges\\nExample #1: If you use 400 kWh, you will be billed $75 plus taxes and fees.\\nExample #2: If you use 900 kWh, you will be billed $75 plus taxes and fees.\\nExample #3: If you use 1400 kWh, you will be billed $75 plus $64 plus 13.90 per kWh for the 400 kWh in\\nexcess of 1000 kWh for a total of $194.60 plus taxes and fees.\\nThe average prices listed above do not include facility relocation fees or other charges ordered by a municipality.\\nFor more information, see www.myexpressenergy.com/municipal-fees.\\nElectricity\\nPrice\\nKey Terms\\nSee Terms of Service statement for a full listing of fees, deposit policy, and other terms.\\nType of Product\\nFixed Rate\\nContract Term\\n12 months\\nDo I have a termination fee or any fees Yes. A termination fee of $20 multiplied by the number of months\\nassociated with terminating service?\\nremaining on the term of your contract will apply.\\nCan my price change during contract Yes. Your price can change if there are changes in TDU charges;\\nperiod?\\nchanges to the Electricity Reliability Council of Texas or Texas Regional\\nIf my price can change, how much will it Entity administrative fees charged to loads; or changes resulting from\\nDisclosure change and by how much?\\nfederal, state, or local laws or regulatory actions that impose new or\\nChart\\nmodified fees or costs that are outside our control.\\nWhat other fees may I be charged?\\nFor a full list of fees please see the “Pricing and Fees” section of your\\nTerms of Service.\\nIs this a pre-pay or pay in advance product? No\\nDoes the REP purchase excess distributed\\nNo\\nrenewable generation?\\nRenewable Content\\n6%, with option to upgrade to 100% Texas Wind during enrollment.\\nStatewide average renewable content 19%\\nValue Based Brands LLC dba Express Energy\\nPUC REP Certificate No. 10041\\nP.O. Box 660361\\nEmail: service@myExpressEnergy.com\\nDallas, TX 75266-0361\\nInternet Address: www.myExpressEnergy.com\\nTelephone: 1-844-361-2080 Monday-Friday 9 a.m. to 6 p.m. CST\\nVersion: quikva12gab_a\"}"
      ]
     },
     "execution_count": 9,
     "metadata": {},
     "output_type": "execute_result"
    }
   ],
   "source": [
    "records[1]['document']['documentText']"
   ]
  },
  {
   "cell_type": "code",
   "execution_count": null,
   "metadata": {},
   "outputs": [],
   "source": []
  }
 ],
 "metadata": {
  "kernelspec": {
   "display_name": "Python 3",
   "language": "python",
   "name": "python3"
  },
  "language_info": {
   "codemirror_mode": {
    "name": "ipython",
    "version": 3
   },
   "file_extension": ".py",
   "mimetype": "text/x-python",
   "name": "python",
   "nbconvert_exporter": "python",
   "pygments_lexer": "ipython3",
   "version": "3.7.0"
  }
 },
 "nbformat": 4,
 "nbformat_minor": 2
}
