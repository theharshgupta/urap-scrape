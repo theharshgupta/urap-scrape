{
 "cells": [
  {
   "cell_type": "code",
   "execution_count": 7,
   "metadata": {},
   "outputs": [
    {
     "name": "stderr",
     "output_type": "stream",
     "text": [
      "[WDM] - Trying to download new driver from http://chromedriver.storage.googleapis.com/83.0.4103.39/chromedriver_mac64.zip\n",
      "[WDM] - Unpack archive /Users/lizhuo/.wdm/drivers/chromedriver/83.0.4103.39/mac64/chromedriver.zip\n"
     ]
    },
    {
     "name": "stdout",
     "output_type": "stream",
     "text": [
      "percent match: 0.9953881631675007\n"
     ]
    }
   ],
   "source": [
    "from selenium import webdriver\n",
    "from selenium.webdriver.common.by import By\n",
    "from selenium.webdriver import ActionChains\n",
    "from selenium.webdriver.support import expected_conditions as EC\n",
    "from selenium.webdriver.support.ui import WebDriverWait\n",
    "import time\n",
    "from difflib import SequenceMatcher\n",
    "import email_error\n",
    "import bs4 as bs\n",
    "from webdriver_manager.chrome import ChromeDriverManager\n",
    "\n",
    "driver = webdriver.Chrome(ChromeDriverManager().install())\n",
    "def scrape(supplier):\n",
    "\n",
    "    #driver = webdriver.Chrome(r'C:/Program Files/Chromedriver/chromedriver.exe')\n",
    "    driver.get(\"https://www.energizect.com/compare-energy-suppliers\")  # get the page\n",
    "\n",
    "    if (supplier == \"UI\"):\n",
    "        ui_button = driver.find_element_by_id(\"radioTwo\")\n",
    "        ui_button.click()\n",
    "    # Click the button\n",
    "    compare_now_button = driver.find_element_by_class_name(\"supplier_form_submit\")\n",
    "    compare_now_button.click()\n",
    "\n",
    "    # Wait *up to* 10 seconds to make sure the page has finished loading (check that the button no longer exists)\n",
    "    # WebDriverWait(driver,10).until(EC.visibility_of_element_located((By.CLASS_NAME, \"supplier_form_submit\")))\n",
    "\n",
    "    #TEMPERORARY FOR THE POPUP ABOUT STANDARD PRICES\n",
    "    try:\n",
    "        WebDriverWait(driver,20).until(EC.visibility_of_element_located((By.CLASS_NAME, \"ui-dialog-titlebar-close\")))\n",
    "        close_button = driver.find_element_by_class_name(\"ui-dialog-titlebar-close\")\n",
    "        close_button.click()\n",
    "    except: \n",
    "        print(\"no seasonal popup\")\n",
    "\n",
    "    # Wait *up to* 20 seconds for the popup to show up \n",
    "    try:\n",
    "        WebDriverWait(driver,20).until(EC.visibility_of_element_located((By.CLASS_NAME, \"close_anchor\")))\n",
    "    except: \n",
    "        email_error.send_email(\"no close anchor\")\n",
    "\n",
    "    #click the x for a disclaimer\n",
    "    close_button = driver.find_element_by_class_name(\"clostPopup\")\n",
    "    close_button.click()\n",
    "    action = ActionChains(driver)\n",
    "\n",
    "\n",
    "    lists = driver.find_elements_by_class_name(\"compare_button1\")\n",
    "    count = 0\n",
    "    try:\n",
    "        oldHTML = open(\"./data/\" + supplier + \"_PVD.html\").read()\n",
    "    except Exception:\n",
    "        1 + 1\n",
    "    for test_button1 in lists:\n",
    "        try:\n",
    "            action.move_to_element(test_button1).perform()\n",
    "        except Exception:\n",
    "            time.sleep(5)\n",
    "            print(\"slept\")\n",
    "        count += 1\n",
    "        # print(count)\n",
    "\n",
    "\n",
    "    html = driver.page_source\n",
    "\n",
    "    #writing to a file\n",
    "    soup = bs.BeautifulSoup(html, 'html.parser')\n",
    "    html = soup.prettify()\n",
    "    with open(\"./data/\" + supplier + \"_PVD.html\",\"w\") as out:\n",
    "        for i in range(0, len(html)):\n",
    "            try:\n",
    "                out.write(html[i])\n",
    "            except Exception:\n",
    "                1+1\n",
    "    newHTML = open(\"./data/\"  + supplier + \"_PVD.html\").read()\n",
    "    matcher = SequenceMatcher(None, oldHTML, newHTML).quick_ratio()\n",
    "    if matcher < 0.5:\n",
    "        email_error.send_email(\"difference between HTML files is: \", matcher)\n",
    "    print(\"percent match:\", matcher)\n",
    "\n",
    "scrape('ES')"
   ]
  },
  {
   "cell_type": "code",
   "execution_count": 9,
   "metadata": {},
   "outputs": [],
   "source": [
    "import var_parse\n",
    "\n",
    "var_parse.run('ES')"
   ]
  },
  {
   "cell_type": "code",
   "execution_count": null,
   "metadata": {},
   "outputs": [],
   "source": []
  }
 ],
 "metadata": {
  "kernelspec": {
   "display_name": "Python 3",
   "language": "python",
   "name": "python3"
  },
  "language_info": {
   "codemirror_mode": {
    "name": "ipython",
    "version": 3
   },
   "file_extension": ".py",
   "mimetype": "text/x-python",
   "name": "python",
   "nbconvert_exporter": "python",
   "pygments_lexer": "ipython3",
   "version": "3.7.0"
  }
 },
 "nbformat": 4,
 "nbformat_minor": 2
}
